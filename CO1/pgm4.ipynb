{
 "cells": [
  {
   "cell_type": "code",
   "execution_count": 3,
   "id": "9372c1a1",
   "metadata": {},
   "outputs": [
    {
     "name": "stdout",
     "output_type": "stream",
     "text": [
      "x    1\n",
      "y    2\n",
      "z    3\n",
      "dtype: int64\n",
      "\n",
      "\n",
      "1       red\n",
      "2      blue\n",
      "3     green\n",
      "4    yellow\n",
      "dtype: object\n",
      "\n",
      "\n",
      "day1    100\n",
      "day2    200\n",
      "day3    300\n",
      "dtype: int64\n",
      "day1    [100, 300]\n",
      "day2           200\n",
      "day3           300\n",
      "dtype: object\n"
     ]
    }
   ],
   "source": [
    "import pandas as pd\n",
    "a=[1,2,3]\n",
    "print(pd.Series(a,index=['x','y','z']))\n",
    "colors=['red','blue','green','yellow']\n",
    "print(\"\\n\")\n",
    "print(pd.Series(colors,index=[1,2,3,4]))\n",
    "print(\"\\n\")\n",
    "booking={\"day1\":100,\"day2\":200,\"day3\":300}\n",
    "bid=pd.Series(booking)\n",
    "print(bid)\n",
    "booking={\"day1\":[100,300],\"day2\":200,\"day3\":300}\n",
    "bid=pd.Series(booking)\n",
    "print(bid)"
   ]
  },
  {
   "cell_type": "code",
   "execution_count": 7,
   "id": "cb7bf92b",
   "metadata": {},
   "outputs": [
    {
     "name": "stdout",
     "output_type": "stream",
     "text": [
      "<class 'pandas.core.frame.DataFrame'>\n",
      "RangeIndex: 17 entries, 0 to 16\n",
      "Data columns (total 4 columns):\n",
      " #   Column       Non-Null Count  Dtype \n",
      "---  ------       --------------  ----- \n",
      " 0   Ingredient   17 non-null     object\n",
      " 1   Sweetness    16 non-null     object\n",
      " 2   Crunchiness  17 non-null     int64 \n",
      " 3   FoodType     17 non-null     object\n",
      "dtypes: int64(1), object(3)\n",
      "memory usage: 672.0+ bytes\n"
     ]
    }
   ],
   "source": [
    "import pandas as pd\n",
    "pf=pd.read_csv(\"food_cleaning.csv\")\n",
    "pf.info()"
   ]
  },
  {
   "cell_type": "code",
   "execution_count": 8,
   "id": "d22e7462",
   "metadata": {},
   "outputs": [
    {
     "data": {
      "text/html": [
       "<div>\n",
       "<style scoped>\n",
       "    .dataframe tbody tr th:only-of-type {\n",
       "        vertical-align: middle;\n",
       "    }\n",
       "\n",
       "    .dataframe tbody tr th {\n",
       "        vertical-align: top;\n",
       "    }\n",
       "\n",
       "    .dataframe thead th {\n",
       "        text-align: right;\n",
       "    }\n",
       "</style>\n",
       "<table border=\"1\" class=\"dataframe\">\n",
       "  <thead>\n",
       "    <tr style=\"text-align: right;\">\n",
       "      <th></th>\n",
       "      <th>Ingredient</th>\n",
       "      <th>Sweetness</th>\n",
       "      <th>Crunchiness</th>\n",
       "      <th>FoodType</th>\n",
       "    </tr>\n",
       "  </thead>\n",
       "  <tbody>\n",
       "    <tr>\n",
       "      <th>0</th>\n",
       "      <td>apple</td>\n",
       "      <td>10</td>\n",
       "      <td>9</td>\n",
       "      <td>fruit</td>\n",
       "    </tr>\n",
       "    <tr>\n",
       "      <th>1</th>\n",
       "      <td>bacon</td>\n",
       "      <td>1</td>\n",
       "      <td>4</td>\n",
       "      <td>protein</td>\n",
       "    </tr>\n",
       "    <tr>\n",
       "      <th>2</th>\n",
       "      <td>banana</td>\n",
       "      <td>10</td>\n",
       "      <td>1</td>\n",
       "      <td>fruit</td>\n",
       "    </tr>\n",
       "    <tr>\n",
       "      <th>3</th>\n",
       "      <td>carrot</td>\n",
       "      <td>7</td>\n",
       "      <td>10</td>\n",
       "      <td>vegetable</td>\n",
       "    </tr>\n",
       "    <tr>\n",
       "      <th>4</th>\n",
       "      <td>celery</td>\n",
       "      <td>NaN</td>\n",
       "      <td>10</td>\n",
       "      <td>vegetable</td>\n",
       "    </tr>\n",
       "  </tbody>\n",
       "</table>\n",
       "</div>"
      ],
      "text/plain": [
       "  Ingredient Sweetness  Crunchiness   FoodType\n",
       "0      apple        10            9      fruit\n",
       "1      bacon         1            4    protein\n",
       "2     banana        10            1      fruit\n",
       "3     carrot         7           10  vegetable\n",
       "4     celery       NaN           10  vegetable"
      ]
     },
     "execution_count": 8,
     "metadata": {},
     "output_type": "execute_result"
    }
   ],
   "source": [
    "pf.head()"
   ]
  },
  {
   "cell_type": "code",
   "execution_count": 9,
   "id": "71f39318",
   "metadata": {},
   "outputs": [
    {
     "data": {
      "text/html": [
       "<div>\n",
       "<style scoped>\n",
       "    .dataframe tbody tr th:only-of-type {\n",
       "        vertical-align: middle;\n",
       "    }\n",
       "\n",
       "    .dataframe tbody tr th {\n",
       "        vertical-align: top;\n",
       "    }\n",
       "\n",
       "    .dataframe thead th {\n",
       "        text-align: right;\n",
       "    }\n",
       "</style>\n",
       "<table border=\"1\" class=\"dataframe\">\n",
       "  <thead>\n",
       "    <tr style=\"text-align: right;\">\n",
       "      <th></th>\n",
       "      <th>Ingredient</th>\n",
       "      <th>Sweetness</th>\n",
       "      <th>Crunchiness</th>\n",
       "      <th>FoodType</th>\n",
       "    </tr>\n",
       "  </thead>\n",
       "  <tbody>\n",
       "    <tr>\n",
       "      <th>12</th>\n",
       "      <td>orange</td>\n",
       "      <td>7</td>\n",
       "      <td>3</td>\n",
       "      <td>fruit</td>\n",
       "    </tr>\n",
       "    <tr>\n",
       "      <th>13</th>\n",
       "      <td>pear</td>\n",
       "      <td>10</td>\n",
       "      <td>7</td>\n",
       "      <td>fruit</td>\n",
       "    </tr>\n",
       "    <tr>\n",
       "      <th>14</th>\n",
       "      <td>shrimp</td>\n",
       "      <td>2</td>\n",
       "      <td>3</td>\n",
       "      <td>protein</td>\n",
       "    </tr>\n",
       "    <tr>\n",
       "      <th>15</th>\n",
       "      <td>shrimp</td>\n",
       "      <td>2</td>\n",
       "      <td>3</td>\n",
       "      <td>protein</td>\n",
       "    </tr>\n",
       "    <tr>\n",
       "      <th>16</th>\n",
       "      <td>banana</td>\n",
       "      <td>10</td>\n",
       "      <td>1</td>\n",
       "      <td>fruit</td>\n",
       "    </tr>\n",
       "  </tbody>\n",
       "</table>\n",
       "</div>"
      ],
      "text/plain": [
       "   Ingredient Sweetness  Crunchiness FoodType\n",
       "12     orange         7            3    fruit\n",
       "13       pear        10            7    fruit\n",
       "14     shrimp         2            3  protein\n",
       "15     shrimp         2            3  protein\n",
       "16     banana        10            1    fruit"
      ]
     },
     "execution_count": 9,
     "metadata": {},
     "output_type": "execute_result"
    }
   ],
   "source": [
    "pf.tail()"
   ]
  },
  {
   "cell_type": "code",
   "execution_count": 10,
   "id": "6781e6e6",
   "metadata": {},
   "outputs": [
    {
     "name": "stdout",
     "output_type": "stream",
     "text": [
      "<class 'pandas.core.frame.DataFrame'>\n",
      "\n",
      "\n",
      "    Ingredient  Sweetness  Crunchiness   FoodType\n",
      "0        apple         10            9      fruit\n",
      "1        bacon          1            4    protein\n",
      "2       banana         10            1      fruit\n",
      "3       carrot          7           10  vegetable\n",
      "4       celery          3           10  vegetable\n",
      "5       cheese          1            1    protein\n",
      "6     cucumber          2            8  vegetable\n",
      "7         fish          3            1    protein\n",
      "8        grape          8            5      fruit\n",
      "9   green bean          3            7  vegetable\n",
      "10     lettuce          1            9  vegetable\n",
      "11        nuts          3            6    protein\n",
      "12      orange          7            3      fruit\n",
      "13        pear         10            7      fruit\n",
      "14      shrimp          2            3    protein\n"
     ]
    }
   ],
   "source": [
    "import pandas as pd\n",
    "df=pd.read_csv('food.csv')\n",
    "print(type(df))\n",
    "print(\"\\n\")\n",
    "print(df)"
   ]
  },
  {
   "cell_type": "code",
   "execution_count": 11,
   "id": "c5a31319",
   "metadata": {},
   "outputs": [
    {
     "name": "stdout",
     "output_type": "stream",
     "text": [
      "\n",
      "\n",
      "<class 'pandas.core.frame.DataFrame'>\n",
      "RangeIndex: 15 entries, 0 to 14\n",
      "Data columns (total 4 columns):\n",
      " #   Column       Non-Null Count  Dtype \n",
      "---  ------       --------------  ----- \n",
      " 0   Ingredient   15 non-null     object\n",
      " 1   Sweetness    15 non-null     int64 \n",
      " 2   Crunchiness  15 non-null     int64 \n",
      " 3   FoodType     15 non-null     object\n",
      "dtypes: int64(2), object(2)\n",
      "memory usage: 608.0+ bytes\n",
      "None\n"
     ]
    }
   ],
   "source": [
    "print(\"\\n\")\n",
    "print(df.info())"
   ]
  },
  {
   "cell_type": "code",
   "execution_count": 17,
   "id": "b4cc24b3",
   "metadata": {},
   "outputs": [
    {
     "name": "stdout",
     "output_type": "stream",
     "text": [
      "\n",
      "\n",
      "(15, 4)\n",
      "\n",
      "\n",
      "<bound method NDFrame.describe of     Ingredient  Sweetness  Crunchiness   FoodType\n",
      "0        apple         10            9      fruit\n",
      "1        bacon          1            4    protein\n",
      "2       banana         10            1      fruit\n",
      "3       carrot          7           10  vegetable\n",
      "4       celery          3           10  vegetable\n",
      "5       cheese          1            1    protein\n",
      "6     cucumber          2            8  vegetable\n",
      "7         fish          3            1    protein\n",
      "8        grape          8            5      fruit\n",
      "9   green bean          3            7  vegetable\n",
      "10     lettuce          1            9  vegetable\n",
      "11        nuts          3            6    protein\n",
      "12      orange          7            3      fruit\n",
      "13        pear         10            7      fruit\n",
      "14      shrimp          2            3    protein>\n",
      "\n",
      "\n"
     ]
    },
    {
     "data": {
      "text/html": [
       "<div>\n",
       "<style scoped>\n",
       "    .dataframe tbody tr th:only-of-type {\n",
       "        vertical-align: middle;\n",
       "    }\n",
       "\n",
       "    .dataframe tbody tr th {\n",
       "        vertical-align: top;\n",
       "    }\n",
       "\n",
       "    .dataframe thead th {\n",
       "        text-align: right;\n",
       "    }\n",
       "</style>\n",
       "<table border=\"1\" class=\"dataframe\">\n",
       "  <thead>\n",
       "    <tr style=\"text-align: right;\">\n",
       "      <th></th>\n",
       "      <th>Sweetness</th>\n",
       "      <th>Crunchiness</th>\n",
       "    </tr>\n",
       "  </thead>\n",
       "  <tbody>\n",
       "    <tr>\n",
       "      <th>Sweetness</th>\n",
       "      <td>1.000000</td>\n",
       "      <td>0.070407</td>\n",
       "    </tr>\n",
       "    <tr>\n",
       "      <th>Crunchiness</th>\n",
       "      <td>0.070407</td>\n",
       "      <td>1.000000</td>\n",
       "    </tr>\n",
       "  </tbody>\n",
       "</table>\n",
       "</div>"
      ],
      "text/plain": [
       "             Sweetness  Crunchiness\n",
       "Sweetness     1.000000     0.070407\n",
       "Crunchiness   0.070407     1.000000"
      ]
     },
     "execution_count": 17,
     "metadata": {},
     "output_type": "execute_result"
    }
   ],
   "source": [
    "print(\"\\n\")\n",
    "print(df.shape)\n",
    "print(\"\\n\")\n",
    "print(df.describe)\n",
    "print(\"\\n\")\n",
    "df.corr()"
   ]
  },
  {
   "cell_type": "code",
   "execution_count": 18,
   "id": "b78cc822",
   "metadata": {},
   "outputs": [
    {
     "name": "stdout",
     "output_type": "stream",
     "text": [
      "\n",
      "\n",
      "  Ingredient  Sweetness  Crunchiness FoodType\n",
      "0      apple         10            9    fruit\n",
      "1      bacon          1            4  protein\n",
      "2     banana         10            1    fruit\n"
     ]
    }
   ],
   "source": [
    "print(\"\\n\")\n",
    "print(df[:3])"
   ]
  },
  {
   "cell_type": "code",
   "execution_count": 19,
   "id": "3b9c6067",
   "metadata": {},
   "outputs": [
    {
     "name": "stdout",
     "output_type": "stream",
     "text": [
      "\n",
      "\n",
      "   Sweetness  Crunchiness\n",
      "2         10            1\n",
      "3          7           10\n"
     ]
    }
   ],
   "source": [
    "print(\"\\n\")\n",
    "print(df.iloc[2:4,1:3])"
   ]
  },
  {
   "cell_type": "code",
   "execution_count": 20,
   "id": "33ac23fd",
   "metadata": {},
   "outputs": [
    {
     "name": "stdout",
     "output_type": "stream",
     "text": [
      "\n",
      "\n",
      "Data Cleaning\n",
      "    Ingredient Sweetness  Crunchiness   FoodType\n",
      "0        apple        10            9      fruit\n",
      "1        bacon         1            4    protein\n",
      "2       banana        10            1      fruit\n",
      "3       carrot         7           10  vegetable\n",
      "4       celery       NaN           10  vegetable\n",
      "5       cheese         1            1    protein\n",
      "6     cucumber         2            8  vegetable\n",
      "7         fish         3            1        123\n",
      "8        grape         8            5      fruit\n",
      "9   green bean         3            7  vegetable\n",
      "10     lettuce        AA            9  vegetable\n",
      "11        nuts         3            6    protein\n",
      "12      orange         7            3      fruit\n",
      "13        pear        10            7      fruit\n",
      "14      shrimp         2            3    protein\n",
      "15      shrimp         2            3    protein\n",
      "16      banana        10            1      fruit\n"
     ]
    }
   ],
   "source": [
    "print(\"\\n\")\n",
    "print(\"Data Cleaning\")\n",
    "pf=pd.read_csv('food_cleaning.csv')\n",
    "print(pf)"
   ]
  },
  {
   "cell_type": "code",
   "execution_count": 23,
   "id": "2909f76c",
   "metadata": {},
   "outputs": [
    {
     "name": "stdout",
     "output_type": "stream",
     "text": [
      "    Ingredient Sweetness  Crunchiness   FoodType\n",
      "0        apple        10          9.0      fruit\n",
      "1        bacon         1          4.0    protein\n",
      "2       banana        10          1.0      fruit\n",
      "3       carrot         7         10.0  vegetable\n",
      "4       celery       NaN         10.0  vegetable\n",
      "5       cheese         1          1.0    protein\n",
      "6     cucumber         2          8.0  vegetable\n",
      "7         fish         3          1.0        123\n",
      "8        grape         8          5.0      fruit\n",
      "9   green bean         3          7.0  vegetable\n",
      "10     lettuce        AA          9.0  vegetable\n",
      "11        nuts         3          6.0    protein\n",
      "12      orange         7          3.0      fruit\n",
      "13        pear        10          7.0      fruit\n",
      "14      shrimp         2          3.0    protein\n",
      "15      shrimp         2          3.0    protein\n",
      "16      banana        10          1.0      fruit\n"
     ]
    }
   ],
   "source": [
    "pf['Crunchiness']=pf['Crunchiness'].astype('float')\n",
    "print(pf)"
   ]
  },
  {
   "cell_type": "code",
   "execution_count": 24,
   "id": "8906ae5f",
   "metadata": {},
   "outputs": [
    {
     "name": "stdout",
     "output_type": "stream",
     "text": [
      "    Ingredient Sweetness  Crunchiness   FoodType\n",
      "0        apple        10          9.0      fruit\n",
      "1        bacon         1          4.0    protein\n",
      "2       banana        10          1.0      fruit\n",
      "3       carrot         7         10.0  vegetable\n",
      "5       cheese         1          1.0    protein\n",
      "6     cucumber         2          8.0  vegetable\n",
      "7         fish         3          1.0        123\n",
      "8        grape         8          5.0      fruit\n",
      "9   green bean         3          7.0  vegetable\n",
      "10     lettuce        AA          9.0  vegetable\n",
      "11        nuts         3          6.0    protein\n",
      "12      orange         7          3.0      fruit\n",
      "13        pear        10          7.0      fruit\n",
      "14      shrimp         2          3.0    protein\n",
      "15      shrimp         2          3.0    protein\n",
      "16      banana        10          1.0      fruit\n"
     ]
    }
   ],
   "source": [
    "data=pf.dropna()\n",
    "print(data)"
   ]
  },
  {
   "cell_type": "code",
   "execution_count": 25,
   "id": "e0e5186a",
   "metadata": {},
   "outputs": [
    {
     "name": "stdout",
     "output_type": "stream",
     "text": [
      "    Ingredient Sweetness  Crunchiness   FoodType\n",
      "0        apple        10          9.0      fruit\n",
      "1        bacon         1          4.0    protein\n",
      "2       banana        10          1.0      fruit\n",
      "3       carrot         7         10.0  vegetable\n",
      "4       celery       NaN         10.0  vegetable\n",
      "5       cheese         1          1.0    protein\n",
      "6     cucumber         2          8.0  vegetable\n",
      "7         fish         3          1.0        123\n",
      "8        grape         8          5.0      fruit\n",
      "9   green bean         3          7.0  vegetable\n",
      "10     lettuce        AA          9.0  vegetable\n",
      "11        nuts         3          6.0    protein\n",
      "12      orange         7          3.0      fruit\n",
      "13        pear        10          7.0      fruit\n",
      "14      shrimp         2          3.0    protein\n"
     ]
    }
   ],
   "source": [
    "pf.duplicated().any()\n",
    "pf.drop_duplicates(inplace=True)\n",
    "print(pf)"
   ]
  },
  {
   "cell_type": "code",
   "execution_count": 26,
   "id": "dad97ec6",
   "metadata": {},
   "outputs": [
    {
     "name": "stdout",
     "output_type": "stream",
     "text": [
      "5.6\n"
     ]
    }
   ],
   "source": [
    "mean_sweetness=pf['Crunchiness'].mean()\n",
    "print(mean_sweetness)"
   ]
  },
  {
   "cell_type": "code",
   "execution_count": 27,
   "id": "88845431",
   "metadata": {},
   "outputs": [
    {
     "name": "stdout",
     "output_type": "stream",
     "text": [
      "    Ingredient Sweetness  Crunchiness   FoodType\n",
      "0        apple        10          9.0      fruit\n",
      "1        bacon         1          4.0    protein\n",
      "2       banana        10          1.0      fruit\n",
      "3       carrot         7         10.0  vegetable\n",
      "4       celery       NaN         10.0  vegetable\n",
      "5       cheese         1          1.0    protein\n",
      "6     cucumber         2          8.0  vegetable\n",
      "7         fish         3          1.0        123\n",
      "8        grape         8          5.0      fruit\n",
      "9   green bean         3          7.0  vegetable\n",
      "10     lettuce        AA          9.0  vegetable\n",
      "11        nuts         3          6.0    protein\n",
      "12      orange         7          3.0      fruit\n",
      "13        pear        10          7.0      fruit\n",
      "14      shrimp         2          3.0    protein\n"
     ]
    }
   ],
   "source": [
    "pf['Crunchiness'].fillna(mean_sweetness,inplace=True)\n",
    "print(pf)"
   ]
  },
  {
   "cell_type": "code",
   "execution_count": null,
   "id": "f4b6e2cf",
   "metadata": {},
   "outputs": [],
   "source": []
  }
 ],
 "metadata": {
  "kernelspec": {
   "display_name": "Python 3 (ipykernel)",
   "language": "python",
   "name": "python3"
  },
  "language_info": {
   "codemirror_mode": {
    "name": "ipython",
    "version": 3
   },
   "file_extension": ".py",
   "mimetype": "text/x-python",
   "name": "python",
   "nbconvert_exporter": "python",
   "pygments_lexer": "ipython3",
   "version": "3.9.7"
  }
 },
 "nbformat": 4,
 "nbformat_minor": 5
}
